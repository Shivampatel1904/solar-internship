df.hist(bins=30)
df[df.columns[:9]].hist(bins=30, figsize=(15, 10)) plt.show()


plt.figure(figsize=(15, 30))

for i, column in enumerate(df.columns):

plt.subplot(7, 3, i+1)

plt.scatter(df [column), df['generated_power_kw'])

plt.title(f'{column) vs Generated Power (kW)')

plt.xlabel(column)

plt.ylabel('Generated Power (kW)')

plt.tight_layout()

plt.show()
 
df.corr()
sns.heatmap(df.corr())
plt.figure(figsize=(15, 10))

sns.heatmap(df.corr(), cmap='coolwarm', annot=True, fmt='.2f')

plt.show()



plt.figure(figsize=(15, 30))

for i, column in enumerate(df.columns):

plt.subplot(7, 3, 1+1)

sns.boxplot(df[column])

plt.show()