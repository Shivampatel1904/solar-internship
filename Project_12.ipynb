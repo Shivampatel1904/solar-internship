import pandas as pd

import numpy as np

import seaborn as sns

df = pd.read_csv('dataset/solarpowergeneration.csv')

df.head()

df.tail()

df.shape

df.describe()

df.info()

df.isnull()

df.isnull().sum()

df.duplicated().sum()

df.column

import matplotlib.pyplot as plt

plt.figure(figsize=(10, 6))

sns.histplot(df['generated_power_kw'], bins-30, kde=True)

plt.title('Distribution of Generated Power (kW)')

plt.xlabel('Generated Power (kW)')

plt.ylabel('Frequency')

plt.show()
