{
 "cells": [
  {
   "cell_type": "code",
   "execution_count": 46,
   "metadata": {},
   "outputs": [],
   "source": [
    "import pandas as pd\n",
    "\n",
    "import numpy as np\n",
    "\n",
    "import seaborn as sns\n",
    "\n"
   ]
  },
  {
   "cell_type": "code",
   "execution_count": 75,
   "metadata": {},
   "outputs": [
    {
     "data": {
      "text/html": [
       "<div>\n",
       "<style scoped>\n",
       "    .dataframe tbody tr th:only-of-type {\n",
       "        vertical-align: middle;\n",
       "    }\n",
       "\n",
       "    .dataframe tbody tr th {\n",
       "        vertical-align: top;\n",
       "    }\n",
       "\n",
       "    .dataframe thead th {\n",
       "        text-align: right;\n",
       "    }\n",
       "</style>\n",
       "<table border=\"1\" class=\"dataframe\">\n",
       "  <thead>\n",
       "    <tr style=\"text-align: right;\">\n",
       "      <th></th>\n",
       "      <th>temperature_2_m_above_gnd</th>\n",
       "      <th>relative_humidity_2_m_above_gnd</th>\n",
       "      <th>mean_sea_level_pressure_MSL</th>\n",
       "      <th>total_precipitation_sfc</th>\n",
       "      <th>snowfall_amount_sfc</th>\n",
       "      <th>total_cloud_cover_sfc</th>\n",
       "      <th>high_cloud_cover_high_cld_lay</th>\n",
       "      <th>medium_cloud_cover_mid_cld_lay</th>\n",
       "      <th>low_cloud_cover_low_cld_lay</th>\n",
       "      <th>shortwave_radiation_backwards_sfc</th>\n",
       "      <th>...</th>\n",
       "      <th>wind_direction_10_m_above_gnd</th>\n",
       "      <th>wind_speed_80_m_above_gnd</th>\n",
       "      <th>wind_direction_80_m_above_gnd</th>\n",
       "      <th>wind_speed_900_mb</th>\n",
       "      <th>wind_direction_900_mb</th>\n",
       "      <th>wind_gust_10_m_above_gnd</th>\n",
       "      <th>angle_of_incidence</th>\n",
       "      <th>zenith</th>\n",
       "      <th>azimuth</th>\n",
       "      <th>generated_power_kw</th>\n",
       "    </tr>\n",
       "  </thead>\n",
       "  <tbody>\n",
       "    <tr>\n",
       "      <th>4208</th>\n",
       "      <td>8.69</td>\n",
       "      <td>66</td>\n",
       "      <td>1025.1</td>\n",
       "      <td>0.0</td>\n",
       "      <td>0.0</td>\n",
       "      <td>100.0</td>\n",
       "      <td>100</td>\n",
       "      <td>100</td>\n",
       "      <td>100</td>\n",
       "      <td>257.21</td>\n",
       "      <td>...</td>\n",
       "      <td>285.42</td>\n",
       "      <td>25.50</td>\n",
       "      <td>283.06</td>\n",
       "      <td>24.01</td>\n",
       "      <td>282.99</td>\n",
       "      <td>25.20</td>\n",
       "      <td>22.700907</td>\n",
       "      <td>64.952098</td>\n",
       "      <td>167.06794</td>\n",
       "      <td>173.410560</td>\n",
       "    </tr>\n",
       "    <tr>\n",
       "      <th>4209</th>\n",
       "      <td>7.57</td>\n",
       "      <td>90</td>\n",
       "      <td>1026.1</td>\n",
       "      <td>0.0</td>\n",
       "      <td>0.0</td>\n",
       "      <td>100.0</td>\n",
       "      <td>79</td>\n",
       "      <td>100</td>\n",
       "      <td>100</td>\n",
       "      <td>210.04</td>\n",
       "      <td>...</td>\n",
       "      <td>6.91</td>\n",
       "      <td>13.00</td>\n",
       "      <td>4.76</td>\n",
       "      <td>11.61</td>\n",
       "      <td>7.13</td>\n",
       "      <td>10.44</td>\n",
       "      <td>19.307487</td>\n",
       "      <td>63.895118</td>\n",
       "      <td>182.28247</td>\n",
       "      <td>403.792220</td>\n",
       "    </tr>\n",
       "    <tr>\n",
       "      <th>4210</th>\n",
       "      <td>7.27</td>\n",
       "      <td>90</td>\n",
       "      <td>1026.3</td>\n",
       "      <td>0.1</td>\n",
       "      <td>0.0</td>\n",
       "      <td>100.0</td>\n",
       "      <td>73</td>\n",
       "      <td>100</td>\n",
       "      <td>100</td>\n",
       "      <td>113.92</td>\n",
       "      <td>...</td>\n",
       "      <td>2.29</td>\n",
       "      <td>8.71</td>\n",
       "      <td>352.87</td>\n",
       "      <td>7.95</td>\n",
       "      <td>354.81</td>\n",
       "      <td>22.32</td>\n",
       "      <td>25.249506</td>\n",
       "      <td>65.827032</td>\n",
       "      <td>197.33868</td>\n",
       "      <td>158.367780</td>\n",
       "    </tr>\n",
       "    <tr>\n",
       "      <th>4211</th>\n",
       "      <td>8.25</td>\n",
       "      <td>81</td>\n",
       "      <td>1025.5</td>\n",
       "      <td>0.0</td>\n",
       "      <td>0.0</td>\n",
       "      <td>100.0</td>\n",
       "      <td>74</td>\n",
       "      <td>66</td>\n",
       "      <td>100</td>\n",
       "      <td>186.90</td>\n",
       "      <td>...</td>\n",
       "      <td>11.31</td>\n",
       "      <td>6.29</td>\n",
       "      <td>13.24</td>\n",
       "      <td>5.94</td>\n",
       "      <td>14.04</td>\n",
       "      <td>15.48</td>\n",
       "      <td>36.361161</td>\n",
       "      <td>70.496313</td>\n",
       "      <td>211.30027</td>\n",
       "      <td>126.953060</td>\n",
       "    </tr>\n",
       "    <tr>\n",
       "      <th>4212</th>\n",
       "      <td>8.00</td>\n",
       "      <td>80</td>\n",
       "      <td>1025.3</td>\n",
       "      <td>0.0</td>\n",
       "      <td>0.0</td>\n",
       "      <td>100.0</td>\n",
       "      <td>100</td>\n",
       "      <td>100</td>\n",
       "      <td>100</td>\n",
       "      <td>172.66</td>\n",
       "      <td>...</td>\n",
       "      <td>12.72</td>\n",
       "      <td>12.07</td>\n",
       "      <td>17.35</td>\n",
       "      <td>11.38</td>\n",
       "      <td>18.43</td>\n",
       "      <td>16.20</td>\n",
       "      <td>48.452849</td>\n",
       "      <td>76.919574</td>\n",
       "      <td>223.04931</td>\n",
       "      <td>20.055031</td>\n",
       "    </tr>\n",
       "  </tbody>\n",
       "</table>\n",
       "<p>5 rows × 21 columns</p>\n",
       "</div>"
      ],
      "text/plain": [
       "      temperature_2_m_above_gnd  relative_humidity_2_m_above_gnd  \\\n",
       "4208                       8.69                               66   \n",
       "4209                       7.57                               90   \n",
       "4210                       7.27                               90   \n",
       "4211                       8.25                               81   \n",
       "4212                       8.00                               80   \n",
       "\n",
       "      mean_sea_level_pressure_MSL  total_precipitation_sfc  \\\n",
       "4208                       1025.1                      0.0   \n",
       "4209                       1026.1                      0.0   \n",
       "4210                       1026.3                      0.1   \n",
       "4211                       1025.5                      0.0   \n",
       "4212                       1025.3                      0.0   \n",
       "\n",
       "      snowfall_amount_sfc  total_cloud_cover_sfc  \\\n",
       "4208                  0.0                  100.0   \n",
       "4209                  0.0                  100.0   \n",
       "4210                  0.0                  100.0   \n",
       "4211                  0.0                  100.0   \n",
       "4212                  0.0                  100.0   \n",
       "\n",
       "      high_cloud_cover_high_cld_lay  medium_cloud_cover_mid_cld_lay  \\\n",
       "4208                            100                             100   \n",
       "4209                             79                             100   \n",
       "4210                             73                             100   \n",
       "4211                             74                              66   \n",
       "4212                            100                             100   \n",
       "\n",
       "      low_cloud_cover_low_cld_lay  shortwave_radiation_backwards_sfc  ...  \\\n",
       "4208                          100                             257.21  ...   \n",
       "4209                          100                             210.04  ...   \n",
       "4210                          100                             113.92  ...   \n",
       "4211                          100                             186.90  ...   \n",
       "4212                          100                             172.66  ...   \n",
       "\n",
       "      wind_direction_10_m_above_gnd  wind_speed_80_m_above_gnd  \\\n",
       "4208                         285.42                      25.50   \n",
       "4209                           6.91                      13.00   \n",
       "4210                           2.29                       8.71   \n",
       "4211                          11.31                       6.29   \n",
       "4212                          12.72                      12.07   \n",
       "\n",
       "      wind_direction_80_m_above_gnd  wind_speed_900_mb  wind_direction_900_mb  \\\n",
       "4208                         283.06              24.01                 282.99   \n",
       "4209                           4.76              11.61                   7.13   \n",
       "4210                         352.87               7.95                 354.81   \n",
       "4211                          13.24               5.94                  14.04   \n",
       "4212                          17.35              11.38                  18.43   \n",
       "\n",
       "      wind_gust_10_m_above_gnd  angle_of_incidence     zenith    azimuth  \\\n",
       "4208                     25.20           22.700907  64.952098  167.06794   \n",
       "4209                     10.44           19.307487  63.895118  182.28247   \n",
       "4210                     22.32           25.249506  65.827032  197.33868   \n",
       "4211                     15.48           36.361161  70.496313  211.30027   \n",
       "4212                     16.20           48.452849  76.919574  223.04931   \n",
       "\n",
       "      generated_power_kw  \n",
       "4208          173.410560  \n",
       "4209          403.792220  \n",
       "4210          158.367780  \n",
       "4211          126.953060  \n",
       "4212           20.055031  \n",
       "\n",
       "[5 rows x 21 columns]"
      ]
     },
     "execution_count": 75,
     "metadata": {},
     "output_type": "execute_result"
    }
   ],
   "source": [
    "df = pd.read_csv('C:\\\\Users\\\\ASUS\\\\Desktop\\\\solar power\\\\dataset\\\\solarpowergeneration.csv')\n",
    "\n",
    "df.head()\n",
    "\n",
    "df.tail()\n"
   ]
  },
  {
   "cell_type": "code",
   "execution_count": 78,
   "metadata": {},
   "outputs": [
    {
     "name": "stdout",
     "output_type": "stream",
     "text": [
      "<class 'pandas.core.frame.DataFrame'>\n",
      "RangeIndex: 4213 entries, 0 to 4212\n",
      "Data columns (total 21 columns):\n",
      " #   Column                             Non-Null Count  Dtype  \n",
      "---  ------                             --------------  -----  \n",
      " 0   temperature_2_m_above_gnd          4213 non-null   float64\n",
      " 1   relative_humidity_2_m_above_gnd    4213 non-null   int64  \n",
      " 2   mean_sea_level_pressure_MSL        4213 non-null   float64\n",
      " 3   total_precipitation_sfc            4213 non-null   float64\n",
      " 4   snowfall_amount_sfc                4213 non-null   float64\n",
      " 5   total_cloud_cover_sfc              4213 non-null   float64\n",
      " 6   high_cloud_cover_high_cld_lay      4213 non-null   int64  \n",
      " 7   medium_cloud_cover_mid_cld_lay     4213 non-null   int64  \n",
      " 8   low_cloud_cover_low_cld_lay        4213 non-null   int64  \n",
      " 9   shortwave_radiation_backwards_sfc  4213 non-null   float64\n",
      " 10  wind_speed_10_m_above_gnd          4213 non-null   float64\n",
      " 11  wind_direction_10_m_above_gnd      4213 non-null   float64\n",
      " 12  wind_speed_80_m_above_gnd          4213 non-null   float64\n",
      " 13  wind_direction_80_m_above_gnd      4213 non-null   float64\n",
      " 14  wind_speed_900_mb                  4213 non-null   float64\n",
      " 15  wind_direction_900_mb              4213 non-null   float64\n",
      " 16  wind_gust_10_m_above_gnd           4213 non-null   float64\n",
      " 17  angle_of_incidence                 4213 non-null   float64\n",
      " 18  zenith                             4213 non-null   float64\n",
      " 19  azimuth                            4213 non-null   float64\n",
      " 20  generated_power_kw                 4213 non-null   float64\n",
      "dtypes: float64(17), int64(4)\n",
      "memory usage: 691.3 KB\n"
     ]
    }
   ],
   "source": [
    "df.shape\n",
    "\n",
    "df.describe()\n",
    "\n",
    "df.info()\n"
   ]
  },
  {
   "cell_type": "code",
   "execution_count": 80,
   "metadata": {},
   "outputs": [
    {
     "data": {
      "text/plain": [
       "temperature_2_m_above_gnd            0\n",
       "relative_humidity_2_m_above_gnd      0\n",
       "mean_sea_level_pressure_MSL          0\n",
       "total_precipitation_sfc              0\n",
       "snowfall_amount_sfc                  0\n",
       "total_cloud_cover_sfc                0\n",
       "high_cloud_cover_high_cld_lay        0\n",
       "medium_cloud_cover_mid_cld_lay       0\n",
       "low_cloud_cover_low_cld_lay          0\n",
       "shortwave_radiation_backwards_sfc    0\n",
       "wind_speed_10_m_above_gnd            0\n",
       "wind_direction_10_m_above_gnd        0\n",
       "wind_speed_80_m_above_gnd            0\n",
       "wind_direction_80_m_above_gnd        0\n",
       "wind_speed_900_mb                    0\n",
       "wind_direction_900_mb                0\n",
       "wind_gust_10_m_above_gnd             0\n",
       "angle_of_incidence                   0\n",
       "zenith                               0\n",
       "azimuth                              0\n",
       "generated_power_kw                   0\n",
       "dtype: int64"
      ]
     },
     "execution_count": 80,
     "metadata": {},
     "output_type": "execute_result"
    }
   ],
   "source": [
    "df.isnull()\n",
    "\n",
    "df.isnull().sum()\n"
   ]
  },
  {
   "cell_type": "code",
   "execution_count": 81,
   "metadata": {},
   "outputs": [
    {
     "data": {
      "text/plain": [
       "np.int64(0)"
      ]
     },
     "execution_count": 81,
     "metadata": {},
     "output_type": "execute_result"
    }
   ],
   "source": [
    "df.duplicated().sum()"
   ]
  },
  {
   "cell_type": "code",
   "execution_count": 82,
   "metadata": {},
   "outputs": [
    {
     "data": {
      "text/plain": [
       "Index(['temperature_2_m_above_gnd', 'relative_humidity_2_m_above_gnd',\n",
       "       'mean_sea_level_pressure_MSL', 'total_precipitation_sfc',\n",
       "       'snowfall_amount_sfc', 'total_cloud_cover_sfc',\n",
       "       'high_cloud_cover_high_cld_lay', 'medium_cloud_cover_mid_cld_lay',\n",
       "       'low_cloud_cover_low_cld_lay', 'shortwave_radiation_backwards_sfc',\n",
       "       'wind_speed_10_m_above_gnd', 'wind_direction_10_m_above_gnd',\n",
       "       'wind_speed_80_m_above_gnd', 'wind_direction_80_m_above_gnd',\n",
       "       'wind_speed_900_mb', 'wind_direction_900_mb',\n",
       "       'wind_gust_10_m_above_gnd', 'angle_of_incidence', 'zenith', 'azimuth',\n",
       "       'generated_power_kw'],\n",
       "      dtype='object')"
      ]
     },
     "execution_count": 82,
     "metadata": {},
     "output_type": "execute_result"
    }
   ],
   "source": [
    "df.columns"
   ]
  },
  {
   "cell_type": "code",
   "execution_count": 87,
   "metadata": {},
   "outputs": [
    {
     "name": "stdout",
     "output_type": "stream",
     "text": [
      "Requirement already satisfied: matplotlib in c:\\users\\asus\\appdata\\local\\packages\\pythonsoftwarefoundation.python.3.11_qbz5n2kfra8p0\\localcache\\local-packages\\python311\\site-packages (3.10.0)\n",
      "Requirement already satisfied: contourpy>=1.0.1 in c:\\users\\asus\\appdata\\local\\packages\\pythonsoftwarefoundation.python.3.11_qbz5n2kfra8p0\\localcache\\local-packages\\python311\\site-packages (from matplotlib) (1.3.1)\n",
      "Requirement already satisfied: cycler>=0.10 in c:\\users\\asus\\appdata\\local\\packages\\pythonsoftwarefoundation.python.3.11_qbz5n2kfra8p0\\localcache\\local-packages\\python311\\site-packages (from matplotlib) (0.12.1)\n",
      "Requirement already satisfied: fonttools>=4.22.0 in c:\\users\\asus\\appdata\\local\\packages\\pythonsoftwarefoundation.python.3.11_qbz5n2kfra8p0\\localcache\\local-packages\\python311\\site-packages (from matplotlib) (4.55.8)\n",
      "Requirement already satisfied: kiwisolver>=1.3.1 in c:\\users\\asus\\appdata\\local\\packages\\pythonsoftwarefoundation.python.3.11_qbz5n2kfra8p0\\localcache\\local-packages\\python311\\site-packages (from matplotlib) (1.4.8)\n",
      "Requirement already satisfied: numpy>=1.23 in c:\\users\\asus\\appdata\\local\\packages\\pythonsoftwarefoundation.python.3.11_qbz5n2kfra8p0\\localcache\\local-packages\\python311\\site-packages (from matplotlib) (2.2.2)\n",
      "Requirement already satisfied: packaging>=20.0 in c:\\users\\asus\\appdata\\local\\packages\\pythonsoftwarefoundation.python.3.11_qbz5n2kfra8p0\\localcache\\local-packages\\python311\\site-packages (from matplotlib) (24.2)\n",
      "Requirement already satisfied: pillow>=8 in c:\\users\\asus\\appdata\\local\\packages\\pythonsoftwarefoundation.python.3.11_qbz5n2kfra8p0\\localcache\\local-packages\\python311\\site-packages (from matplotlib) (11.1.0)\n",
      "Requirement already satisfied: pyparsing>=2.3.1 in c:\\users\\asus\\appdata\\local\\packages\\pythonsoftwarefoundation.python.3.11_qbz5n2kfra8p0\\localcache\\local-packages\\python311\\site-packages (from matplotlib) (3.2.1)\n",
      "Requirement already satisfied: python-dateutil>=2.7 in c:\\users\\asus\\appdata\\local\\packages\\pythonsoftwarefoundation.python.3.11_qbz5n2kfra8p0\\localcache\\local-packages\\python311\\site-packages (from matplotlib) (2.9.0.post0)\n",
      "Requirement already satisfied: six>=1.5 in c:\\users\\asus\\appdata\\local\\packages\\pythonsoftwarefoundation.python.3.11_qbz5n2kfra8p0\\localcache\\local-packages\\python311\\site-packages (from python-dateutil>=2.7->matplotlib) (1.17.0)\n",
      "Note: you may need to restart the kernel to use updated packages.\n"
     ]
    },
    {
     "name": "stderr",
     "output_type": "stream",
     "text": [
      "\n",
      "[notice] A new release of pip is available: 24.0 -> 25.0\n",
      "[notice] To update, run: C:\\Users\\ASUS\\AppData\\Local\\Microsoft\\WindowsApps\\PythonSoftwareFoundation.Python.3.11_qbz5n2kfra8p0\\python.exe -m pip install --upgrade pip\n"
     ]
    }
   ],
   "source": [
    "pip install matplotlib"
   ]
  },
  {
   "cell_type": "code",
   "execution_count": 96,
   "metadata": {},
   "outputs": [],
   "source": [
    "import matplotlib.pyplot as plt\n"
   ]
  },
  {
   "cell_type": "code",
   "execution_count": 102,
   "metadata": {},
   "outputs": [
    {
     "data": {
      "text/plain": [
       "<Axes: xlabel='generated_power_kw', ylabel='Count'>"
      ]
     },
     "execution_count": 102,
     "metadata": {},
     "output_type": "execute_result"
    },
    {
     "data": {
      "image/png": "[encoded data removed]",
      "text/plain": [
       "<Figure size 1000x600 with 1 Axes>"
      ]
     },
     "metadata": {},
     "output_type": "display_data"
    }
   ],
   "source": [
    "\n",
    "# Plot distribution of power\n",
    "\n",
    "plt.figure(figsize=(10, 6))\n",
    "\n",
    "sns.histplot(df['generated_power_kw'], bins=30, kde=True)\n",
    "\n"
   ]
  },
  {
   "cell_type": "code",
   "execution_count": 108,
   "metadata": {},
   "outputs": [
    {
     "data": {
      "image/png": "[encoded data removed]",
      "text/plain": [
       "<Figure size 1000x600 with 1 Axes>"
      ]
     },
     "metadata": {},
     "output_type": "display_data"
    }
   ],
   "source": [
    "# Plot distribution of power\n",
    "\n",
    "plt.figure(figsize=(10, 6))\n",
    "\n",
    "sns.histplot(df['generated_power_kw'], bins=50, kde=True)\n",
    "\n",
    "plt.title('Distribution of Generated Power (kW)')\n",
    "\n",
    "plt.xlabel('Generated Power (kW)')\n",
    "\n",
    "plt.ylabel('Frequency')\n",
    "\n",
    "plt.show()"
   ]
  }
 ],
 "metadata": {
  "kernelspec": {
   "display_name": "Python 3",
   "language": "python",
   "name": "python3"
  },
  "language_info": {
   "codemirror_mode": {
    "name": "ipython",
    "version": 3
   },
   "file_extension": ".py",
   "mimetype": "text/x-python",
   "name": "python",
   "nbconvert_exporter": "python",
   "pygments_lexer": "ipython3",
   "version": "3.11.9"
  }
 },
 "nbformat": 4,
 "nbformat_minor": 2
}
